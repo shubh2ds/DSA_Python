{
 "cells": [
  {
   "cell_type": "code",
   "execution_count": 18,
   "metadata": {},
   "outputs": [],
   "source": [
    "class BinaryTreeNode:\n",
    "    def __init__(self,data):\n",
    "        self.data = data\n",
    "        self.left = None\n",
    "        self.right = None\n",
    "\n",
    "def printTree(root):\n",
    "    if root == None:\n",
    "        return\n",
    "    print(root.data,end=\":\")\n",
    "    if root.left !=None:\n",
    "        print(\"L\",root.left.data, end=\",\")\n",
    "    if root.right != None:\n",
    "        print(\"R\",root.right.data, end=\"\")\n",
    "    print()\n",
    "    printTree(root.left)\n",
    "    printTree(root.right)\n"
   ]
  },
  {
   "cell_type": "code",
   "execution_count": 22,
   "metadata": {},
   "outputs": [],
   "source": [
    "btn1 = BinaryTreeNode(1)\n",
    "btn2 = BinaryTreeNode(2)\n",
    "btn3 = BinaryTreeNode(3)\n",
    "\n",
    "btn4 = BinaryTreeNode(4)\n",
    "btn5 = BinaryTreeNode(5)\n"
   ]
  },
  {
   "cell_type": "code",
   "execution_count": 25,
   "metadata": {},
   "outputs": [],
   "source": [
    "btn1.left = btn2\n",
    "btn1.right = btn3\n",
    "\n",
    "btn2.left = btn4\n",
    "btn2.right = btn5\n"
   ]
  },
  {
   "cell_type": "code",
   "execution_count": 26,
   "metadata": {},
   "outputs": [
    {
     "name": "stdout",
     "output_type": "stream",
     "text": [
      "1:L 2,R 3\n",
      "2:L 4,R 5\n",
      "4:\n",
      "5:\n",
      "3:\n"
     ]
    }
   ],
   "source": [
    "printTree(btn1)"
   ]
  },
  {
   "cell_type": "code",
   "execution_count": null,
   "metadata": {},
   "outputs": [],
   "source": []
  },
  {
   "cell_type": "code",
   "execution_count": null,
   "metadata": {},
   "outputs": [],
   "source": []
  },
  {
   "cell_type": "code",
   "execution_count": null,
   "metadata": {},
   "outputs": [],
   "source": []
  }
 ],
 "metadata": {
  "kernelspec": {
   "display_name": "venv2",
   "language": "python",
   "name": "python3"
  },
  "language_info": {
   "codemirror_mode": {
    "name": "ipython",
    "version": 3
   },
   "file_extension": ".py",
   "mimetype": "text/x-python",
   "name": "python",
   "nbconvert_exporter": "python",
   "pygments_lexer": "ipython3",
   "version": "3.9.18"
  }
 },
 "nbformat": 4,
 "nbformat_minor": 2
}
