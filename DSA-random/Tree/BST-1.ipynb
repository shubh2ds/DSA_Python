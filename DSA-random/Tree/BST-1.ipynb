{
 "cells": [
  {
   "cell_type": "code",
   "execution_count": null,
   "metadata": {},
   "outputs": [],
   "source": [
    "class BinaryTreeNode:\n",
    "    def __init__(self, data):\n",
    "        self.root = data\n",
    "        self.left = None\n",
    "        self.right = None\n",
    "        \n",
    "    def printTree(self,BTN):\n",
    "        if BTN.root == None:\n",
    "            return\n",
    "\n",
    "        print(\"Root:\",self.root)\n",
    "        print(\"Left:\",self.left)\n",
    "        print(\"Right:\",self.right)\n",
    "        return printTree(BTN.left)\n"
   ]
  }
 ],
 "metadata": {
  "language_info": {
   "name": "python"
  }
 },
 "nbformat": 4,
 "nbformat_minor": 2
}
