{
 "cells": [
  {
   "cell_type": "markdown",
   "metadata": {},
   "source": [
    "### 643. Maximum Average Subarray I\n",
    "- You are given an integer array nums consisting of n elements, and an integer k.\n",
    "\n",
    "- Find a contiguous subarray whose length is equal to k that has the maximum average value and return this value. Any answer with a calculation error less than 10-5 will be accepted.\n",
    "\n",
    "- Example 1:\n",
    "\n",
    "    - Input: nums = [1,12,-5,-6,50,3], k = 4\n",
    "    - Output: 12.75000\n",
    "    - Explanation: Maximum average is (12 - 5 - 6 + 50) / 4 = 51 / 4 = 12.75\n",
    "\n",
    "- Example 2:\n",
    "\n",
    "    - Input: nums = [5], k = 1\n",
    "    - Output: 5.00000"
   ]
  },
  {
   "cell_type": "code",
   "execution_count": null,
   "metadata": {},
   "outputs": [],
   "source": [
    "class Solution(object):\n",
    "    \n",
    "    def findMaxAverage(self, nums, k):\n",
    "        \"\"\"\n",
    "        :type nums: List[int]\n",
    "        :type k: int\n",
    "        :rtype: float\n",
    "        \"\"\"\n",
    "        i = j = 0\n",
    "        summ = 0.0\n",
    "        avg = 0.0 #float('-inf')  # Initialize avg to a very small number\n",
    "        if len(nums) == 1:\n",
    "            return float(nums[0])\n",
    "        while j<len(nums):\n",
    "            summ = summ + nums[j]\n",
    "            if j-i+1 < k:\n",
    "                j=j+1\n",
    "                \n",
    "            elif j-i+1 == k:\n",
    "                avg = max(avg, summ/k)\n",
    "                summ = summ - nums[i]\n",
    "                i = i+1\n",
    "                j = j+1\n",
    "        return avg\n",
    "            \n",
    "\n",
    "        "
   ]
  },
  {
   "cell_type": "markdown",
   "metadata": {},
   "source": [
    "### 1876. Substrings of Size Three with Distinct Characters\n",
    "\n",
    "- A string is good if there are no repeated characters.\n",
    "\n",
    "Given a string s​​​​​, return the number of good substrings of length three in s​​​​​​.\n",
    "\n",
    "- Note that if there are multiple occurrences of the same substring, every occurrence should be counted.\n",
    "\n",
    "- A substring is a contiguous sequence of characters in a string.\n",
    "\n",
    " \n",
    "\n",
    "- Example 1:\n",
    "\n",
    "- Input: s = \"xyzzaz\"\n",
    "  - Output: 1\n",
    "  - Explanation: There are 4 substrings of size 3: \"xyz\", \"yzz\", \"zza\", and \"zaz\". \n",
    "  - The only good substring of length 3 is \"xyz\"."
   ]
  },
  {
   "cell_type": "code",
   "execution_count": null,
   "metadata": {},
   "outputs": [],
   "source": [
    "class Solution(object):\n",
    "    def countGoodSubstrings(self, s):\n",
    "        \"\"\"\n",
    "        :type s: str\n",
    "        :rtype: int\n",
    "        \"\"\"\n",
    "        i = j = 0\n",
    "        k = 3\n",
    "        Flag = False\n",
    "        count = 0\n",
    "        while j<len(s):\n",
    "            if j-i+1 < k:\n",
    "                j = j +1\n",
    "            elif j-i+1 == k:\n",
    "                print(s[i:j+1])\n",
    "                for ch in s[i:j+1]:\n",
    "                    print(ch,s[i:j+1].count(ch))\n",
    "                    if s[i:j+1].count(ch) >1:\n",
    "                        Flag = False\n",
    "                        break\n",
    "                    else:\n",
    "                        Flag = True\n",
    "                if Flag != False:\n",
    "                    count = count+1\n",
    "\n",
    "                i = i+1\n",
    "                j = j+1\n",
    "            \n",
    "        return count"
   ]
  },
  {
   "cell_type": "code",
   "execution_count": null,
   "metadata": {},
   "outputs": [],
   "source": []
  }
 ],
 "metadata": {
  "language_info": {
   "name": "python"
  }
 },
 "nbformat": 4,
 "nbformat_minor": 2
}
