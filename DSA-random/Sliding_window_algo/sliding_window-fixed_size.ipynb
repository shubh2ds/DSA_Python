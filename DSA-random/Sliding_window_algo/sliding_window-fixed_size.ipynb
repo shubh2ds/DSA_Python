{
 "cells": [
  {
   "cell_type": "markdown",
   "metadata": {},
   "source": [
    "## Max sum subarray of size k"
   ]
  },
  {
   "cell_type": "code",
   "execution_count": 1,
   "metadata": {},
   "outputs": [],
   "source": [
    "arr1 = [2,5,1,8,2,9,1]\n",
    "arr2 = [2,3,1,1,1,4,2]"
   ]
  },
  {
   "cell_type": "code",
   "execution_count": null,
   "metadata": {},
   "outputs": [],
   "source": [
    "i=j=0\n",
    "k = 3\n",
    "max_sum = 0\n",
    "while(j<len(arr1)):\n",
    "    if j-i+1 <k:\n",
    "        j = j+1\n",
    "    elif j-i+1 == k:\n",
    "        #max_sum = max(sum(arr1[i:j]), max_sum )\n",
    "        curr_sum = sum(arr1[i:j+1])\n",
    "        print(\"curr_sum:\",curr_sum ,\" For\", arr1[i:j+1])\n",
    "        if curr_sum > max_sum:\n",
    "            max_sum = curr_sum\n",
    "            max_arr = arr1[i:j+1]\n",
    "        i = i+1\n",
    "        j = j+1\n",
    "max_sum , max_arr"
   ]
  },
  {
   "cell_type": "code",
   "execution_count": null,
   "metadata": {},
   "outputs": [],
   "source": []
  },
  {
   "cell_type": "markdown",
   "metadata": {},
   "source": []
  }
 ],
 "metadata": {
  "kernelspec": {
   "display_name": "venv2",
   "language": "python",
   "name": "python3"
  },
  "language_info": {
   "codemirror_mode": {
    "name": "ipython",
    "version": 3
   },
   "file_extension": ".py",
   "mimetype": "text/x-python",
   "name": "python",
   "nbconvert_exporter": "python",
   "pygments_lexer": "ipython3",
   "version": "3.9.18"
  }
 },
 "nbformat": 4,
 "nbformat_minor": 2
}
