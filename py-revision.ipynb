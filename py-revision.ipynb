{
 "cells": [
  {
   "cell_type": "code",
   "execution_count": null,
   "metadata": {},
   "outputs": [],
   "source": [
    "# a prog language\n",
    "# scripting\n",
    "# high level\n",
    "# interpreted\n",
    "\n",
    "# ways of programming  - supported by Py\n",
    "# scripts\n",
    "# function\n",
    "# oops"
   ]
  },
  {
   "cell_type": "code",
   "execution_count": null,
   "metadata": {},
   "outputs": [],
   "source": [
    "a = 10  \n",
    "b = 12.12\n",
    "\n",
    "#Data type & Data Structure\n",
    "\n",
    "#int \n",
    "#float\n",
    "#bool\n",
    "#str - > string -> s => \"hello world\" , \" \" , \"\", str()\n",
    "#list - > list  -> l => [] , [1],[11,22,33, s, \"Hi\", [11,22]] , list()\n",
    "#tuple - > tuple -> t -> () , (11,22,33), tuple()\n",
    "#set - > set -> s = {1,2,34}, set()\n",
    "#dict - > dictionary d = {'a':11, 1: 23} ,dict()\n",
    "\n",
    "#indexing and slicing\n",
    "# 0 ,1,2,3,4 ...... len(ds)-1 \n",
    "# ds[indx]\n",
    "# ds[start : end]\n",
    "\n",
    "#loops\n",
    "#for , while\n",
    "\n",
    "#operators\n",
    "# a + b , + - * / //\n",
    "# =\n",
    "# == , < , <= , >, >=\n",
    "# and or not\n",
    "\n",
    "# a = 10 \n",
    "# b =20\n",
    "# c = 30\n",
    "# a+b+c\n",
    "# a>10\n",
    "\n",
    "\n",
    "#conditional statements\n",
    "# if , else , elif\n",
    "# if cond1:\n",
    "# if cond2:\n",
    "# elif cond:\n",
    "# else:\n",
    "\n"
   ]
  },
  {
   "cell_type": "code",
   "execution_count": 9,
   "metadata": {},
   "outputs": [
    {
     "data": {
      "text/plain": [
       "False"
      ]
     },
     "execution_count": 9,
     "metadata": {},
     "output_type": "execute_result"
    }
   ],
   "source": [
    "L = [10,22,33,44,77]\n",
    "\n",
    "100 in L"
   ]
  },
  {
   "cell_type": "code",
   "execution_count": 11,
   "metadata": {},
   "outputs": [
    {
     "name": "stdout",
     "output_type": "stream",
     "text": [
      "yes 33\n"
     ]
    }
   ],
   "source": [
    "L = [10,22,33,44,77]\n",
    "#search:\n",
    "if 33 in L:\n",
    "    print(\"yes 33\")\n",
    "elif 44 in L:\n",
    "    print(\"yeah 44\")\n",
    "else:\n",
    "    print(\"No\")"
   ]
  },
  {
   "cell_type": "code",
   "execution_count": 14,
   "metadata": {},
   "outputs": [
    {
     "data": {
      "text/plain": [
       "(10, 44, 77)"
      ]
     },
     "execution_count": 14,
     "metadata": {},
     "output_type": "execute_result"
    }
   ],
   "source": [
    "L[0], L[3], L[len(L)-1]"
   ]
  },
  {
   "cell_type": "code",
   "execution_count": 18,
   "metadata": {},
   "outputs": [
    {
     "data": {
      "text/plain": [
       "([10, 22, 33, 44, 77], [10, 22, 33])"
      ]
     },
     "execution_count": 18,
     "metadata": {},
     "output_type": "execute_result"
    }
   ],
   "source": [
    "L[:] , L[0:3] # start - included , end - excluded (end-1)"
   ]
  },
  {
   "cell_type": "code",
   "execution_count": 20,
   "metadata": {},
   "outputs": [
    {
     "data": {
      "text/plain": [
       "(77, 44)"
      ]
     },
     "execution_count": 20,
     "metadata": {},
     "output_type": "execute_result"
    }
   ],
   "source": [
    "L[-1] , L[-2]"
   ]
  },
  {
   "cell_type": "code",
   "execution_count": 25,
   "metadata": {},
   "outputs": [
    {
     "name": "stdout",
     "output_type": "stream",
     "text": [
      "I: 0 ok |I: 1 ok |I: 2 ok |I: 3 ok |I: 4 ok |I: 5 ok |I: 6 ok |I: 7 ok |I: 8 ok |I: 9 ok |"
     ]
    }
   ],
   "source": [
    "for i in range(0,10):\n",
    "    print(\"I:\",i, \"ok\" , end=\" |\")"
   ]
  },
  {
   "cell_type": "code",
   "execution_count": 63,
   "metadata": {},
   "outputs": [
    {
     "name": "stdout",
     "output_type": "stream",
     "text": [
      "10\n",
      "22\n",
      "33\n",
      "44\n",
      "77\n"
     ]
    },
    {
     "data": {
      "text/plain": [
       "[10, 22, 330, 44, 77]"
      ]
     },
     "execution_count": 63,
     "metadata": {},
     "output_type": "execute_result"
    }
   ],
   "source": [
    "L = [10,22,33,44,77]\n",
    "for i in range(0,len(L),1):\n",
    "    print(L[i])\n",
    "    if i == 2:\n",
    "        L[i] = L[i]*10\n",
    "\n",
    "L"
   ]
  },
  {
   "cell_type": "code",
   "execution_count": 36,
   "metadata": {},
   "outputs": [
    {
     "name": "stdout",
     "output_type": "stream",
     "text": [
      "not maxm 0\n",
      "found 1\n",
      "found 2\n",
      "not maxm 3\n",
      "not maxm 4\n"
     ]
    },
    {
     "data": {
      "text/plain": [
       "3300"
      ]
     },
     "execution_count": 36,
     "metadata": {},
     "output_type": "execute_result"
    }
   ],
   "source": [
    "maxm = L[0]\n",
    "for i in range(0,len(L)):\n",
    "    if L[i] > maxm:\n",
    "        maxm = L[i]\n",
    "        print(\"found\",i)\n",
    "        #break\n",
    "    else:\n",
    "        print(\"not maxm\",i)\n",
    "maxm"
   ]
  },
  {
   "cell_type": "code",
   "execution_count": 39,
   "metadata": {},
   "outputs": [
    {
     "data": {
      "text/plain": [
       "('h', 'd', 'hel', 'dlrow olleh')"
      ]
     },
     "execution_count": 39,
     "metadata": {},
     "output_type": "execute_result"
    }
   ],
   "source": [
    "# string\n",
    "s = \"hello world\"\n",
    "s[0], s[len(s)-1], s[0:3], s[: : -1]"
   ]
  },
  {
   "cell_type": "code",
   "execution_count": 42,
   "metadata": {},
   "outputs": [
    {
     "data": {
      "text/plain": [
       "(2, 'ab', [1, 2, 22, 33])"
      ]
     },
     "execution_count": 42,
     "metadata": {},
     "output_type": "execute_result"
    }
   ],
   "source": [
    "1 + 1 , 'a'+'b' , [1,2] + [22,33]"
   ]
  },
  {
   "cell_type": "code",
   "execution_count": 48,
   "metadata": {},
   "outputs": [
    {
     "data": {
      "text/plain": [
       "(1, 'aaa', [1, 2, 1, 2, 1, 2])"
      ]
     },
     "execution_count": 48,
     "metadata": {},
     "output_type": "execute_result"
    }
   ],
   "source": [
    "1 * 1 , 'a'*3 , [1,2] * 3"
   ]
  },
  {
   "cell_type": "code",
   "execution_count": 49,
   "metadata": {},
   "outputs": [
    {
     "data": {
      "text/plain": [
       "[100, 200, 300, 400]"
      ]
     },
     "execution_count": 49,
     "metadata": {},
     "output_type": "execute_result"
    }
   ],
   "source": [
    "L =[100,200,300,400]\n",
    "L"
   ]
  },
  {
   "cell_type": "code",
   "execution_count": 50,
   "metadata": {},
   "outputs": [
    {
     "data": {
      "text/plain": [
       "([100, 200, 300, 400], [100, 200, 300, 400])"
      ]
     },
     "execution_count": 50,
     "metadata": {},
     "output_type": "execute_result"
    }
   ],
   "source": [
    "L1 = L\n",
    "L, L1"
   ]
  },
  {
   "cell_type": "code",
   "execution_count": 51,
   "metadata": {},
   "outputs": [
    {
     "data": {
      "text/plain": [
       "[1000, 200, 300, 400]"
      ]
     },
     "execution_count": 51,
     "metadata": {},
     "output_type": "execute_result"
    }
   ],
   "source": [
    "L[0] = 1000\n",
    "L"
   ]
  },
  {
   "cell_type": "code",
   "execution_count": 52,
   "metadata": {},
   "outputs": [
    {
     "data": {
      "text/plain": [
       "[1000, 200, 300, 400]"
      ]
     },
     "execution_count": 52,
     "metadata": {},
     "output_type": "execute_result"
    }
   ],
   "source": [
    "L1"
   ]
  },
  {
   "cell_type": "code",
   "execution_count": 53,
   "metadata": {},
   "outputs": [],
   "source": [
    "t = (11,22,33)"
   ]
  },
  {
   "cell_type": "code",
   "execution_count": 54,
   "metadata": {},
   "outputs": [
    {
     "data": {
      "text/plain": [
       "{11, 22, 33}"
      ]
     },
     "execution_count": 54,
     "metadata": {},
     "output_type": "execute_result"
    }
   ],
   "source": [
    "{11,22,33}"
   ]
  },
  {
   "cell_type": "code",
   "execution_count": 57,
   "metadata": {},
   "outputs": [
    {
     "data": {
      "text/plain": [
       "('helli', 'helli')"
      ]
     },
     "execution_count": 57,
     "metadata": {},
     "output_type": "execute_result"
    }
   ],
   "source": [
    "d = {'Hello':'helli'}\n",
    "d['Hello'], d.get('Hello')\n"
   ]
  },
  {
   "cell_type": "code",
   "execution_count": 60,
   "metadata": {},
   "outputs": [
    {
     "data": {
      "text/html": [
       "<div>\n",
       "<style scoped>\n",
       "    .dataframe tbody tr th:only-of-type {\n",
       "        vertical-align: middle;\n",
       "    }\n",
       "\n",
       "    .dataframe tbody tr th {\n",
       "        vertical-align: top;\n",
       "    }\n",
       "\n",
       "    .dataframe thead th {\n",
       "        text-align: right;\n",
       "    }\n",
       "</style>\n",
       "<table border=\"1\" class=\"dataframe\">\n",
       "  <thead>\n",
       "    <tr style=\"text-align: right;\">\n",
       "      <th></th>\n",
       "      <th>students</th>\n",
       "      <th>physics</th>\n",
       "    </tr>\n",
       "  </thead>\n",
       "  <tbody>\n",
       "    <tr>\n",
       "      <th>0</th>\n",
       "      <td>a</td>\n",
       "      <td>30</td>\n",
       "    </tr>\n",
       "    <tr>\n",
       "      <th>1</th>\n",
       "      <td>b</td>\n",
       "      <td>40</td>\n",
       "    </tr>\n",
       "    <tr>\n",
       "      <th>2</th>\n",
       "      <td>c</td>\n",
       "      <td>60</td>\n",
       "    </tr>\n",
       "  </tbody>\n",
       "</table>\n",
       "</div>"
      ],
      "text/plain": [
       "  students  physics\n",
       "0        a       30\n",
       "1        b       40\n",
       "2        c       60"
      ]
     },
     "execution_count": 60,
     "metadata": {},
     "output_type": "execute_result"
    }
   ],
   "source": [
    "d = {'students':['a','b','c'] , 'physics':[30,40,60] }\n",
    "# conda create -n venv2 python=3.8\n",
    "# conda activate venv2\n",
    "# pip install pandas\n",
    "import pandas as pd\n",
    "df = pd.DataFrame(d)\n",
    "df.head()"
   ]
  }
 ],
 "metadata": {
  "kernelspec": {
   "display_name": "venv2",
   "language": "python",
   "name": "python3"
  },
  "language_info": {
   "codemirror_mode": {
    "name": "ipython",
    "version": 3
   },
   "file_extension": ".py",
   "mimetype": "text/x-python",
   "name": "python",
   "nbconvert_exporter": "python",
   "pygments_lexer": "ipython3",
   "version": "3.9.18"
  }
 },
 "nbformat": 4,
 "nbformat_minor": 2
}
